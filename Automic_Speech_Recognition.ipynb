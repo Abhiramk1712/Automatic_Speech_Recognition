{
 "cells": [
  {
   "cell_type": "markdown",
   "id": "5073dd51",
   "metadata": {},
   "source": [
    "# Automatic Speech Recognition "
   ]
  },
  {
   "cell_type": "markdown",
   "id": "d6ab3d40",
   "metadata": {},
   "source": [
    "### Downloading required modules "
   ]
  },
  {
   "cell_type": "code",
   "execution_count": 1,
   "id": "31935c1b",
   "metadata": {},
   "outputs": [
    {
     "name": "stdout",
     "output_type": "stream",
     "text": [
      "Requirement already satisfied: speechrecognition in c:\\users\\abhir\\anaconda3\\lib\\site-packages (3.8.1)\n"
     ]
    }
   ],
   "source": [
    "!pip install speechrecognition"
   ]
  },
  {
   "cell_type": "code",
   "execution_count": 2,
   "id": "074ae89a",
   "metadata": {},
   "outputs": [
    {
     "name": "stdout",
     "output_type": "stream",
     "text": [
      "Requirement already satisfied: PyAudio in c:\\users\\abhir\\anaconda3\\lib\\site-packages (0.2.11)\n"
     ]
    }
   ],
   "source": [
    "!pip install PyAudio"
   ]
  },
  {
   "cell_type": "markdown",
   "id": "26e90ec5",
   "metadata": {},
   "source": [
    "### Importing the module "
   ]
  },
  {
   "cell_type": "code",
   "execution_count": 3,
   "id": "e122f363",
   "metadata": {},
   "outputs": [],
   "source": [
    "import speech_recognition as sr"
   ]
  },
  {
   "cell_type": "code",
   "execution_count": 4,
   "id": "ce810894",
   "metadata": {},
   "outputs": [],
   "source": [
    "r = sr.Recognizer()"
   ]
  },
  {
   "cell_type": "markdown",
   "id": "e6a57d48",
   "metadata": {},
   "source": [
    "## Convert Speech to Text in real-time"
   ]
  },
  {
   "cell_type": "code",
   "execution_count": 5,
   "id": "867bb20d",
   "metadata": {},
   "outputs": [
    {
     "name": "stdout",
     "output_type": "stream",
     "text": [
      "Speak now...\n",
      "Speaker:  hello\n",
      "Speak now...\n",
      "Speaker:  quit quit\n",
      "Speak now...\n",
      "Speaker:  quit\n",
      "Thank you...\n"
     ]
    }
   ],
   "source": [
    "while True:\n",
    "    with sr.Microphone() as source:\n",
    "        # clear background noise\n",
    "        r.adjust_for_ambient_noise(source, duration = 0.3)\n",
    "        \n",
    "        print(\"Speak now...\")\n",
    "        # capture the audio\n",
    "        audio = r.listen(source)\n",
    "        try:\n",
    "            text = r.recognize_google(audio)\n",
    "            print(\"Speaker: \", text)\n",
    "            if text == 'quit':\n",
    "                print(\"Thank you...\")\n",
    "                break\n",
    "        except:\n",
    "            print(\"Please speak again...\")"
   ]
  },
  {
   "cell_type": "markdown",
   "id": "56b0c76b",
   "metadata": {},
   "source": [
    "## Convert Audio to Text"
   ]
  },
  {
   "cell_type": "code",
   "execution_count": 6,
   "id": "776f3316",
   "metadata": {},
   "outputs": [
    {
     "name": "stdout",
     "output_type": "stream",
     "text": [
      "listening to audio...\n",
      "Audio: welcome to speech recognition\n"
     ]
    }
   ],
   "source": [
    "with sr.AudioFile('test.wav') as source:\n",
    "    print(\"Listening to audio...\")\n",
    "    # capture the audio\n",
    "    audio = r.listen(source)\n",
    "\n",
    "    try:\n",
    "        text = r.recognize_google(audio)\n",
    "        print(\"Audio:\", text)\n",
    "    except:\n",
    "        print('Error...')"
   ]
  },
  {
   "cell_type": "code",
   "execution_count": null,
   "id": "a44d822d",
   "metadata": {},
   "outputs": [],
   "source": []
  }
 ],
 "metadata": {
  "kernelspec": {
   "display_name": "Python 3",
   "language": "python",
   "name": "python3"
  },
  "language_info": {
   "codemirror_mode": {
    "name": "ipython",
    "version": 3
   },
   "file_extension": ".py",
   "mimetype": "text/x-python",
   "name": "python",
   "nbconvert_exporter": "python",
   "pygments_lexer": "ipython3",
   "version": "3.8.8"
  }
 },
 "nbformat": 4,
 "nbformat_minor": 5
}
